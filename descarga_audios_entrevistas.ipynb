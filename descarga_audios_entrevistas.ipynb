{
 "cells": [
  {
   "metadata": {
    "ExecuteTime": {
     "end_time": "2025-03-01T04:11:07.694971Z",
     "start_time": "2025-03-01T04:11:07.544663Z"
    }
   },
   "cell_type": "code",
   "source": [
    "from __future__ import unicode_literals\n",
    "import yt_dlp"
   ],
   "id": "c94dbed7becc7767",
   "outputs": [],
   "execution_count": 1
  },
  {
   "metadata": {
    "ExecuteTime": {
     "end_time": "2025-03-01T04:11:07.700764Z",
     "start_time": "2025-03-01T04:11:07.697632Z"
    }
   },
   "cell_type": "code",
   "source": [
    "# Ligas de entrevistas a aspirantes IPDP\n",
    "urls_youtube = {\n",
    "    \"primera_parte\": \"https://www.youtube.com/live/6IdYSeI88Gw?si=alxovaaTFZDJOqHy\",\n",
    "    \"segunda_parte\": \"https://www.youtube.com/live/LCYVANND0Z8?si=FpHvvodVpFRw4yKV\"\n",
    "}"
   ],
   "id": "79a846dd4b8204d1",
   "outputs": [],
   "execution_count": 2
  },
  {
   "metadata": {
    "ExecuteTime": {
     "end_time": "2025-03-01T04:11:07.847905Z",
     "start_time": "2025-03-01T04:11:07.844698Z"
    }
   },
   "cell_type": "code",
   "source": [
    "#Función para descargar audio de los vídeos\n",
    "def download_audio(url):\n",
    "    ydl_opts = {\n",
    "        'format': 'bestaudio/best',\n",
    "        'postprocessors': [{\n",
    "            'key': 'FFmpegExtractAudio',\n",
    "            'preferredcodec': 'mp3',\n",
    "            'preferredquality': '192',\n",
    "        }],\n",
    "    }\n",
    "\n",
    "    with yt_dlp.YoutubeDL(ydl_opts) as ydl:\n",
    "        ydl.download([url])"
   ],
   "id": "473132a8755a4ef7",
   "outputs": [],
   "execution_count": 3
  },
  {
   "metadata": {
    "ExecuteTime": {
     "end_time": "2025-03-01T04:23:38.178400Z",
     "start_time": "2025-03-01T04:11:07.853253Z"
    }
   },
   "cell_type": "code",
   "source": [
    "#Descargar audio\n",
    "download_audio(urls_youtube[\"primera_parte\"])"
   ],
   "id": "4e1f9f22b348011c",
   "outputs": [
    {
     "name": "stdout",
     "output_type": "stream",
     "text": [
      "[youtube] Extracting URL: https://www.youtube.com/live/6IdYSeI88Gw?si=alxovaaTFZDJOqHy\n",
      "[youtube] 6IdYSeI88Gw: Downloading webpage\n",
      "[youtube] 6IdYSeI88Gw: Downloading tv client config\n",
      "[youtube] 6IdYSeI88Gw: Downloading player 5ae7d525\n",
      "[youtube] 6IdYSeI88Gw: Downloading tv player API JSON\n",
      "[youtube] 6IdYSeI88Gw: Downloading ios player API JSON\n",
      "[youtube] 6IdYSeI88Gw: Downloading MPD manifest\n",
      "[youtube] 6IdYSeI88Gw: Downloading MPD manifest\n",
      "[info] 6IdYSeI88Gw: Downloading 1 format(s): 140\n",
      "[dashsegments] Total fragments: 2785\n",
      "[download] Destination: 🔴 #EnVivo ｜ Entrevista a las aspirantes a ocupar el cargo de titulares de... ｜ 28 de Febrero de 2025 [6IdYSeI88Gw].m4a\n",
      "[download] 100% of  217.51MiB in 00:12:26 at 298.45KiB/s                   \n"
     ]
    },
    {
     "name": "stderr",
     "output_type": "stream",
     "text": [
      "WARNING: 6IdYSeI88Gw: writing DASH m4a. Only some players support this container. Install ffmpeg to fix this automatically\n",
      "WARNING: 6IdYSeI88Gw: Possible duplicate MOOV atoms. Install ffmpeg to fix this automatically\n",
      "ERROR: Postprocessing: ffprobe and ffmpeg not found. Please install or provide the path using --ffmpeg-location\n"
     ]
    },
    {
     "ename": "DownloadError",
     "evalue": "ERROR: Postprocessing: ffprobe and ffmpeg not found. Please install or provide the path using --ffmpeg-location",
     "output_type": "error",
     "traceback": [
      "\u001B[1;31m---------------------------------------------------------------------------\u001B[0m",
      "\u001B[1;31mPostProcessingError\u001B[0m                       Traceback (most recent call last)",
      "File \u001B[1;32m~\\miniconda3\\Lib\\site-packages\\yt_dlp\\YoutubeDL.py:3570\u001B[0m, in \u001B[0;36mYoutubeDL.process_info\u001B[1;34m(self, info_dict)\u001B[0m\n\u001B[0;32m   3569\u001B[0m \u001B[38;5;28;01mtry\u001B[39;00m:\n\u001B[1;32m-> 3570\u001B[0m     replace_info_dict(\u001B[38;5;28mself\u001B[39m\u001B[38;5;241m.\u001B[39mpost_process(dl_filename, info_dict, files_to_move))\n\u001B[0;32m   3571\u001B[0m \u001B[38;5;28;01mexcept\u001B[39;00m PostProcessingError \u001B[38;5;28;01mas\u001B[39;00m err:\n",
      "File \u001B[1;32m~\\miniconda3\\Lib\\site-packages\\yt_dlp\\YoutubeDL.py:3754\u001B[0m, in \u001B[0;36mYoutubeDL.post_process\u001B[1;34m(self, filename, info, files_to_move)\u001B[0m\n\u001B[0;32m   3753\u001B[0m info[\u001B[38;5;124m'\u001B[39m\u001B[38;5;124m__files_to_move\u001B[39m\u001B[38;5;124m'\u001B[39m] \u001B[38;5;241m=\u001B[39m files_to_move \u001B[38;5;129;01mor\u001B[39;00m {}\n\u001B[1;32m-> 3754\u001B[0m info \u001B[38;5;241m=\u001B[39m \u001B[38;5;28mself\u001B[39m\u001B[38;5;241m.\u001B[39mrun_all_pps(\u001B[38;5;124m'\u001B[39m\u001B[38;5;124mpost_process\u001B[39m\u001B[38;5;124m'\u001B[39m, info, additional_pps\u001B[38;5;241m=\u001B[39minfo\u001B[38;5;241m.\u001B[39mget(\u001B[38;5;124m'\u001B[39m\u001B[38;5;124m__postprocessors\u001B[39m\u001B[38;5;124m'\u001B[39m))\n\u001B[0;32m   3755\u001B[0m info \u001B[38;5;241m=\u001B[39m \u001B[38;5;28mself\u001B[39m\u001B[38;5;241m.\u001B[39mrun_pp(MoveFilesAfterDownloadPP(\u001B[38;5;28mself\u001B[39m), info)\n",
      "File \u001B[1;32m~\\miniconda3\\Lib\\site-packages\\yt_dlp\\YoutubeDL.py:3736\u001B[0m, in \u001B[0;36mYoutubeDL.run_all_pps\u001B[1;34m(self, key, info, additional_pps)\u001B[0m\n\u001B[0;32m   3735\u001B[0m \u001B[38;5;28;01mfor\u001B[39;00m pp \u001B[38;5;129;01min\u001B[39;00m (additional_pps \u001B[38;5;129;01mor\u001B[39;00m []) \u001B[38;5;241m+\u001B[39m \u001B[38;5;28mself\u001B[39m\u001B[38;5;241m.\u001B[39m_pps[key]:\n\u001B[1;32m-> 3736\u001B[0m     info \u001B[38;5;241m=\u001B[39m \u001B[38;5;28mself\u001B[39m\u001B[38;5;241m.\u001B[39mrun_pp(pp, info)\n\u001B[0;32m   3737\u001B[0m \u001B[38;5;28;01mreturn\u001B[39;00m info\n",
      "File \u001B[1;32m~\\miniconda3\\Lib\\site-packages\\yt_dlp\\YoutubeDL.py:3714\u001B[0m, in \u001B[0;36mYoutubeDL.run_pp\u001B[1;34m(self, pp, infodict)\u001B[0m\n\u001B[0;32m   3713\u001B[0m \u001B[38;5;28;01mtry\u001B[39;00m:\n\u001B[1;32m-> 3714\u001B[0m     files_to_delete, infodict \u001B[38;5;241m=\u001B[39m pp\u001B[38;5;241m.\u001B[39mrun(infodict)\n\u001B[0;32m   3715\u001B[0m \u001B[38;5;28;01mexcept\u001B[39;00m PostProcessingError \u001B[38;5;28;01mas\u001B[39;00m e:\n\u001B[0;32m   3716\u001B[0m     \u001B[38;5;66;03m# Must be True and not 'only_download'\u001B[39;00m\n",
      "File \u001B[1;32m~\\miniconda3\\Lib\\site-packages\\yt_dlp\\postprocessor\\common.py:22\u001B[0m, in \u001B[0;36mPostProcessorMetaClass.run_wrapper.<locals>.run\u001B[1;34m(self, info, *args, **kwargs)\u001B[0m\n\u001B[0;32m     21\u001B[0m \u001B[38;5;28mself\u001B[39m\u001B[38;5;241m.\u001B[39m_hook_progress({\u001B[38;5;124m'\u001B[39m\u001B[38;5;124mstatus\u001B[39m\u001B[38;5;124m'\u001B[39m: \u001B[38;5;124m'\u001B[39m\u001B[38;5;124mstarted\u001B[39m\u001B[38;5;124m'\u001B[39m}, info_copy)\n\u001B[1;32m---> 22\u001B[0m ret \u001B[38;5;241m=\u001B[39m func(\u001B[38;5;28mself\u001B[39m, info, \u001B[38;5;241m*\u001B[39margs, \u001B[38;5;241m*\u001B[39m\u001B[38;5;241m*\u001B[39mkwargs)\n\u001B[0;32m     23\u001B[0m \u001B[38;5;28;01mif\u001B[39;00m ret \u001B[38;5;129;01mis\u001B[39;00m \u001B[38;5;129;01mnot\u001B[39;00m \u001B[38;5;28;01mNone\u001B[39;00m:\n",
      "File \u001B[1;32m~\\miniconda3\\Lib\\site-packages\\yt_dlp\\postprocessor\\common.py:127\u001B[0m, in \u001B[0;36mPostProcessor._restrict_to.<locals>.decorator.<locals>.wrapper\u001B[1;34m(self, info)\u001B[0m\n\u001B[0;32m    126\u001B[0m \u001B[38;5;28;01mif\u001B[39;00m allowed[format_type]:\n\u001B[1;32m--> 127\u001B[0m     \u001B[38;5;28;01mreturn\u001B[39;00m func(\u001B[38;5;28mself\u001B[39m, info)\n\u001B[0;32m    128\u001B[0m \u001B[38;5;28;01melse\u001B[39;00m:\n",
      "File \u001B[1;32m~\\miniconda3\\Lib\\site-packages\\yt_dlp\\postprocessor\\ffmpeg.py:493\u001B[0m, in \u001B[0;36mFFmpegExtractAudioPP.run\u001B[1;34m(self, information)\u001B[0m\n\u001B[0;32m    491\u001B[0m     \u001B[38;5;28;01mreturn\u001B[39;00m [], information\n\u001B[1;32m--> 493\u001B[0m filecodec \u001B[38;5;241m=\u001B[39m \u001B[38;5;28mself\u001B[39m\u001B[38;5;241m.\u001B[39mget_audio_codec(path)\n\u001B[0;32m    494\u001B[0m \u001B[38;5;28;01mif\u001B[39;00m filecodec \u001B[38;5;129;01mis\u001B[39;00m \u001B[38;5;28;01mNone\u001B[39;00m:\n",
      "File \u001B[1;32m~\\miniconda3\\Lib\\site-packages\\yt_dlp\\postprocessor\\ffmpeg.py:241\u001B[0m, in \u001B[0;36mFFmpegPostProcessor.get_audio_codec\u001B[1;34m(self, path)\u001B[0m\n\u001B[0;32m    240\u001B[0m \u001B[38;5;28;01mif\u001B[39;00m \u001B[38;5;129;01mnot\u001B[39;00m \u001B[38;5;28mself\u001B[39m\u001B[38;5;241m.\u001B[39mprobe_available \u001B[38;5;129;01mand\u001B[39;00m \u001B[38;5;129;01mnot\u001B[39;00m \u001B[38;5;28mself\u001B[39m\u001B[38;5;241m.\u001B[39mavailable:\n\u001B[1;32m--> 241\u001B[0m     \u001B[38;5;28;01mraise\u001B[39;00m PostProcessingError(\u001B[38;5;124m'\u001B[39m\u001B[38;5;124mffprobe and ffmpeg not found. Please install or provide the path using --ffmpeg-location\u001B[39m\u001B[38;5;124m'\u001B[39m)\n\u001B[0;32m    242\u001B[0m \u001B[38;5;28;01mtry\u001B[39;00m:\n",
      "\u001B[1;31mPostProcessingError\u001B[0m: ffprobe and ffmpeg not found. Please install or provide the path using --ffmpeg-location",
      "\nDuring handling of the above exception, another exception occurred:\n",
      "\u001B[1;31mDownloadError\u001B[0m                             Traceback (most recent call last)",
      "Cell \u001B[1;32mIn[4], line 2\u001B[0m\n\u001B[0;32m      1\u001B[0m \u001B[38;5;66;03m#Descargar audio\u001B[39;00m\n\u001B[1;32m----> 2\u001B[0m download_audio(urls_youtube[\u001B[38;5;124m\"\u001B[39m\u001B[38;5;124mprimera_parte\u001B[39m\u001B[38;5;124m\"\u001B[39m])\n",
      "Cell \u001B[1;32mIn[3], line 13\u001B[0m, in \u001B[0;36mdownload_audio\u001B[1;34m(url)\u001B[0m\n\u001B[0;32m      3\u001B[0m ydl_opts \u001B[38;5;241m=\u001B[39m {\n\u001B[0;32m      4\u001B[0m     \u001B[38;5;124m'\u001B[39m\u001B[38;5;124mformat\u001B[39m\u001B[38;5;124m'\u001B[39m: \u001B[38;5;124m'\u001B[39m\u001B[38;5;124mbestaudio/best\u001B[39m\u001B[38;5;124m'\u001B[39m,\n\u001B[0;32m      5\u001B[0m     \u001B[38;5;124m'\u001B[39m\u001B[38;5;124mpostprocessors\u001B[39m\u001B[38;5;124m'\u001B[39m: [{\n\u001B[1;32m   (...)\u001B[0m\n\u001B[0;32m      9\u001B[0m     }],\n\u001B[0;32m     10\u001B[0m }\n\u001B[0;32m     12\u001B[0m \u001B[38;5;28;01mwith\u001B[39;00m yt_dlp\u001B[38;5;241m.\u001B[39mYoutubeDL(ydl_opts) \u001B[38;5;28;01mas\u001B[39;00m ydl:\n\u001B[1;32m---> 13\u001B[0m     ydl\u001B[38;5;241m.\u001B[39mdownload([url])\n",
      "File \u001B[1;32m~\\miniconda3\\Lib\\site-packages\\yt_dlp\\YoutubeDL.py:3618\u001B[0m, in \u001B[0;36mYoutubeDL.download\u001B[1;34m(self, url_list)\u001B[0m\n\u001B[0;32m   3615\u001B[0m     \u001B[38;5;28;01mraise\u001B[39;00m SameFileError(outtmpl)\n\u001B[0;32m   3617\u001B[0m \u001B[38;5;28;01mfor\u001B[39;00m url \u001B[38;5;129;01min\u001B[39;00m url_list:\n\u001B[1;32m-> 3618\u001B[0m     \u001B[38;5;28mself\u001B[39m\u001B[38;5;241m.\u001B[39m__download_wrapper(\u001B[38;5;28mself\u001B[39m\u001B[38;5;241m.\u001B[39mextract_info)(\n\u001B[0;32m   3619\u001B[0m         url, force_generic_extractor\u001B[38;5;241m=\u001B[39m\u001B[38;5;28mself\u001B[39m\u001B[38;5;241m.\u001B[39mparams\u001B[38;5;241m.\u001B[39mget(\u001B[38;5;124m'\u001B[39m\u001B[38;5;124mforce_generic_extractor\u001B[39m\u001B[38;5;124m'\u001B[39m, \u001B[38;5;28;01mFalse\u001B[39;00m))\n\u001B[0;32m   3621\u001B[0m \u001B[38;5;28;01mreturn\u001B[39;00m \u001B[38;5;28mself\u001B[39m\u001B[38;5;241m.\u001B[39m_download_retcode\n",
      "File \u001B[1;32m~\\miniconda3\\Lib\\site-packages\\yt_dlp\\YoutubeDL.py:3591\u001B[0m, in \u001B[0;36mYoutubeDL.__download_wrapper.<locals>.wrapper\u001B[1;34m(*args, **kwargs)\u001B[0m\n\u001B[0;32m   3588\u001B[0m \u001B[38;5;129m@functools\u001B[39m\u001B[38;5;241m.\u001B[39mwraps(func)\n\u001B[0;32m   3589\u001B[0m \u001B[38;5;28;01mdef\u001B[39;00m \u001B[38;5;21mwrapper\u001B[39m(\u001B[38;5;241m*\u001B[39margs, \u001B[38;5;241m*\u001B[39m\u001B[38;5;241m*\u001B[39mkwargs):\n\u001B[0;32m   3590\u001B[0m     \u001B[38;5;28;01mtry\u001B[39;00m:\n\u001B[1;32m-> 3591\u001B[0m         res \u001B[38;5;241m=\u001B[39m func(\u001B[38;5;241m*\u001B[39margs, \u001B[38;5;241m*\u001B[39m\u001B[38;5;241m*\u001B[39mkwargs)\n\u001B[0;32m   3592\u001B[0m     \u001B[38;5;28;01mexcept\u001B[39;00m CookieLoadError:\n\u001B[0;32m   3593\u001B[0m         \u001B[38;5;28;01mraise\u001B[39;00m\n",
      "File \u001B[1;32m~\\miniconda3\\Lib\\site-packages\\yt_dlp\\YoutubeDL.py:1626\u001B[0m, in \u001B[0;36mYoutubeDL.extract_info\u001B[1;34m(self, url, download, ie_key, extra_info, process, force_generic_extractor)\u001B[0m\n\u001B[0;32m   1624\u001B[0m             \u001B[38;5;28;01mraise\u001B[39;00m ExistingVideoReached\n\u001B[0;32m   1625\u001B[0m         \u001B[38;5;28;01mbreak\u001B[39;00m\n\u001B[1;32m-> 1626\u001B[0m     \u001B[38;5;28;01mreturn\u001B[39;00m \u001B[38;5;28mself\u001B[39m\u001B[38;5;241m.\u001B[39m__extract_info(url, \u001B[38;5;28mself\u001B[39m\u001B[38;5;241m.\u001B[39mget_info_extractor(key), download, extra_info, process)\n\u001B[0;32m   1627\u001B[0m \u001B[38;5;28;01melse\u001B[39;00m:\n\u001B[0;32m   1628\u001B[0m     extractors_restricted \u001B[38;5;241m=\u001B[39m \u001B[38;5;28mself\u001B[39m\u001B[38;5;241m.\u001B[39mparams\u001B[38;5;241m.\u001B[39mget(\u001B[38;5;124m'\u001B[39m\u001B[38;5;124mallowed_extractors\u001B[39m\u001B[38;5;124m'\u001B[39m) \u001B[38;5;129;01mnot\u001B[39;00m \u001B[38;5;129;01min\u001B[39;00m (\u001B[38;5;28;01mNone\u001B[39;00m, [\u001B[38;5;124m'\u001B[39m\u001B[38;5;124mdefault\u001B[39m\u001B[38;5;124m'\u001B[39m])\n",
      "File \u001B[1;32m~\\miniconda3\\Lib\\site-packages\\yt_dlp\\YoutubeDL.py:1637\u001B[0m, in \u001B[0;36mYoutubeDL._handle_extraction_exceptions.<locals>.wrapper\u001B[1;34m(self, *args, **kwargs)\u001B[0m\n\u001B[0;32m   1635\u001B[0m \u001B[38;5;28;01mwhile\u001B[39;00m \u001B[38;5;28;01mTrue\u001B[39;00m:\n\u001B[0;32m   1636\u001B[0m     \u001B[38;5;28;01mtry\u001B[39;00m:\n\u001B[1;32m-> 1637\u001B[0m         \u001B[38;5;28;01mreturn\u001B[39;00m func(\u001B[38;5;28mself\u001B[39m, \u001B[38;5;241m*\u001B[39margs, \u001B[38;5;241m*\u001B[39m\u001B[38;5;241m*\u001B[39mkwargs)\n\u001B[0;32m   1638\u001B[0m     \u001B[38;5;28;01mexcept\u001B[39;00m (CookieLoadError, DownloadCancelled, LazyList\u001B[38;5;241m.\u001B[39mIndexError, PagedList\u001B[38;5;241m.\u001B[39mIndexError):\n\u001B[0;32m   1639\u001B[0m         \u001B[38;5;28;01mraise\u001B[39;00m\n",
      "File \u001B[1;32m~\\miniconda3\\Lib\\site-packages\\yt_dlp\\YoutubeDL.py:1793\u001B[0m, in \u001B[0;36mYoutubeDL.__extract_info\u001B[1;34m(self, url, ie, download, extra_info, process)\u001B[0m\n\u001B[0;32m   1791\u001B[0m \u001B[38;5;28;01mif\u001B[39;00m process:\n\u001B[0;32m   1792\u001B[0m     \u001B[38;5;28mself\u001B[39m\u001B[38;5;241m.\u001B[39m_wait_for_video(ie_result)\n\u001B[1;32m-> 1793\u001B[0m     \u001B[38;5;28;01mreturn\u001B[39;00m \u001B[38;5;28mself\u001B[39m\u001B[38;5;241m.\u001B[39mprocess_ie_result(ie_result, download, extra_info)\n\u001B[0;32m   1794\u001B[0m \u001B[38;5;28;01melse\u001B[39;00m:\n\u001B[0;32m   1795\u001B[0m     \u001B[38;5;28;01mreturn\u001B[39;00m ie_result\n",
      "File \u001B[1;32m~\\miniconda3\\Lib\\site-packages\\yt_dlp\\YoutubeDL.py:1852\u001B[0m, in \u001B[0;36mYoutubeDL.process_ie_result\u001B[1;34m(self, ie_result, download, extra_info)\u001B[0m\n\u001B[0;32m   1850\u001B[0m \u001B[38;5;28;01mif\u001B[39;00m result_type \u001B[38;5;241m==\u001B[39m \u001B[38;5;124m'\u001B[39m\u001B[38;5;124mvideo\u001B[39m\u001B[38;5;124m'\u001B[39m:\n\u001B[0;32m   1851\u001B[0m     \u001B[38;5;28mself\u001B[39m\u001B[38;5;241m.\u001B[39madd_extra_info(ie_result, extra_info)\n\u001B[1;32m-> 1852\u001B[0m     ie_result \u001B[38;5;241m=\u001B[39m \u001B[38;5;28mself\u001B[39m\u001B[38;5;241m.\u001B[39mprocess_video_result(ie_result, download\u001B[38;5;241m=\u001B[39mdownload)\n\u001B[0;32m   1853\u001B[0m     \u001B[38;5;28mself\u001B[39m\u001B[38;5;241m.\u001B[39m_raise_pending_errors(ie_result)\n\u001B[0;32m   1854\u001B[0m     additional_urls \u001B[38;5;241m=\u001B[39m (ie_result \u001B[38;5;129;01mor\u001B[39;00m {})\u001B[38;5;241m.\u001B[39mget(\u001B[38;5;124m'\u001B[39m\u001B[38;5;124madditional_urls\u001B[39m\u001B[38;5;124m'\u001B[39m)\n",
      "File \u001B[1;32m~\\miniconda3\\Lib\\site-packages\\yt_dlp\\YoutubeDL.py:3024\u001B[0m, in \u001B[0;36mYoutubeDL.process_video_result\u001B[1;34m(self, info_dict, download)\u001B[0m\n\u001B[0;32m   3022\u001B[0m downloaded_formats\u001B[38;5;241m.\u001B[39mappend(new_info)\n\u001B[0;32m   3023\u001B[0m \u001B[38;5;28;01mtry\u001B[39;00m:\n\u001B[1;32m-> 3024\u001B[0m     \u001B[38;5;28mself\u001B[39m\u001B[38;5;241m.\u001B[39mprocess_info(new_info)\n\u001B[0;32m   3025\u001B[0m \u001B[38;5;28;01mexcept\u001B[39;00m MaxDownloadsReached:\n\u001B[0;32m   3026\u001B[0m     max_downloads_reached \u001B[38;5;241m=\u001B[39m \u001B[38;5;28;01mTrue\u001B[39;00m\n",
      "File \u001B[1;32m~\\miniconda3\\Lib\\site-packages\\yt_dlp\\YoutubeDL.py:177\u001B[0m, in \u001B[0;36m_catch_unsafe_extension_error.<locals>.wrapper\u001B[1;34m(self, *args, **kwargs)\u001B[0m\n\u001B[0;32m    174\u001B[0m \u001B[38;5;129m@functools\u001B[39m\u001B[38;5;241m.\u001B[39mwraps(func)\n\u001B[0;32m    175\u001B[0m \u001B[38;5;28;01mdef\u001B[39;00m \u001B[38;5;21mwrapper\u001B[39m(\u001B[38;5;28mself\u001B[39m, \u001B[38;5;241m*\u001B[39margs, \u001B[38;5;241m*\u001B[39m\u001B[38;5;241m*\u001B[39mkwargs):\n\u001B[0;32m    176\u001B[0m     \u001B[38;5;28;01mtry\u001B[39;00m:\n\u001B[1;32m--> 177\u001B[0m         \u001B[38;5;28;01mreturn\u001B[39;00m func(\u001B[38;5;28mself\u001B[39m, \u001B[38;5;241m*\u001B[39margs, \u001B[38;5;241m*\u001B[39m\u001B[38;5;241m*\u001B[39mkwargs)\n\u001B[0;32m    178\u001B[0m     \u001B[38;5;28;01mexcept\u001B[39;00m _UnsafeExtensionError \u001B[38;5;28;01mas\u001B[39;00m error:\n\u001B[0;32m    179\u001B[0m         \u001B[38;5;28mself\u001B[39m\u001B[38;5;241m.\u001B[39mreport_error(\n\u001B[0;32m    180\u001B[0m             \u001B[38;5;124mf\u001B[39m\u001B[38;5;124m'\u001B[39m\u001B[38;5;124mThe extracted extension (\u001B[39m\u001B[38;5;132;01m{\u001B[39;00merror\u001B[38;5;241m.\u001B[39mextension\u001B[38;5;132;01m!r}\u001B[39;00m\u001B[38;5;124m) is unusual \u001B[39m\u001B[38;5;124m'\u001B[39m\n\u001B[0;32m    181\u001B[0m             \u001B[38;5;124m'\u001B[39m\u001B[38;5;124mand will be skipped for safety reasons. \u001B[39m\u001B[38;5;124m'\u001B[39m\n\u001B[0;32m    182\u001B[0m             \u001B[38;5;124mf\u001B[39m\u001B[38;5;124m'\u001B[39m\u001B[38;5;124mIf you believe this is an error\u001B[39m\u001B[38;5;132;01m{\u001B[39;00mbug_reports_message(\u001B[38;5;124m\"\u001B[39m\u001B[38;5;124m,\u001B[39m\u001B[38;5;124m\"\u001B[39m)\u001B[38;5;132;01m}\u001B[39;00m\u001B[38;5;124m'\u001B[39m)\n",
      "File \u001B[1;32m~\\miniconda3\\Lib\\site-packages\\yt_dlp\\YoutubeDL.py:3572\u001B[0m, in \u001B[0;36mYoutubeDL.process_info\u001B[1;34m(self, info_dict)\u001B[0m\n\u001B[0;32m   3570\u001B[0m     replace_info_dict(\u001B[38;5;28mself\u001B[39m\u001B[38;5;241m.\u001B[39mpost_process(dl_filename, info_dict, files_to_move))\n\u001B[0;32m   3571\u001B[0m \u001B[38;5;28;01mexcept\u001B[39;00m PostProcessingError \u001B[38;5;28;01mas\u001B[39;00m err:\n\u001B[1;32m-> 3572\u001B[0m     \u001B[38;5;28mself\u001B[39m\u001B[38;5;241m.\u001B[39mreport_error(\u001B[38;5;124mf\u001B[39m\u001B[38;5;124m'\u001B[39m\u001B[38;5;124mPostprocessing: \u001B[39m\u001B[38;5;132;01m{\u001B[39;00merr\u001B[38;5;132;01m}\u001B[39;00m\u001B[38;5;124m'\u001B[39m)\n\u001B[0;32m   3573\u001B[0m     \u001B[38;5;28;01mreturn\u001B[39;00m\n\u001B[0;32m   3574\u001B[0m \u001B[38;5;28;01mtry\u001B[39;00m:\n",
      "File \u001B[1;32m~\\miniconda3\\Lib\\site-packages\\yt_dlp\\YoutubeDL.py:1095\u001B[0m, in \u001B[0;36mYoutubeDL.report_error\u001B[1;34m(self, message, *args, **kwargs)\u001B[0m\n\u001B[0;32m   1090\u001B[0m \u001B[38;5;28;01mdef\u001B[39;00m \u001B[38;5;21mreport_error\u001B[39m(\u001B[38;5;28mself\u001B[39m, message, \u001B[38;5;241m*\u001B[39margs, \u001B[38;5;241m*\u001B[39m\u001B[38;5;241m*\u001B[39mkwargs):\n\u001B[0;32m   1091\u001B[0m \u001B[38;5;250m    \u001B[39m\u001B[38;5;124;03m\"\"\"\u001B[39;00m\n\u001B[0;32m   1092\u001B[0m \u001B[38;5;124;03m    Do the same as trouble, but prefixes the message with 'ERROR:', colored\u001B[39;00m\n\u001B[0;32m   1093\u001B[0m \u001B[38;5;124;03m    in red if stderr is a tty file.\u001B[39;00m\n\u001B[0;32m   1094\u001B[0m \u001B[38;5;124;03m    \"\"\"\u001B[39;00m\n\u001B[1;32m-> 1095\u001B[0m     \u001B[38;5;28mself\u001B[39m\u001B[38;5;241m.\u001B[39mtrouble(\u001B[38;5;124mf\u001B[39m\u001B[38;5;124m'\u001B[39m\u001B[38;5;132;01m{\u001B[39;00m\u001B[38;5;28mself\u001B[39m\u001B[38;5;241m.\u001B[39m_format_err(\u001B[38;5;124m\"\u001B[39m\u001B[38;5;124mERROR:\u001B[39m\u001B[38;5;124m\"\u001B[39m,\u001B[38;5;250m \u001B[39m\u001B[38;5;28mself\u001B[39m\u001B[38;5;241m.\u001B[39mStyles\u001B[38;5;241m.\u001B[39mERROR)\u001B[38;5;132;01m}\u001B[39;00m\u001B[38;5;124m \u001B[39m\u001B[38;5;132;01m{\u001B[39;00mmessage\u001B[38;5;132;01m}\u001B[39;00m\u001B[38;5;124m'\u001B[39m, \u001B[38;5;241m*\u001B[39margs, \u001B[38;5;241m*\u001B[39m\u001B[38;5;241m*\u001B[39mkwargs)\n",
      "File \u001B[1;32m~\\miniconda3\\Lib\\site-packages\\yt_dlp\\YoutubeDL.py:1034\u001B[0m, in \u001B[0;36mYoutubeDL.trouble\u001B[1;34m(self, message, tb, is_error)\u001B[0m\n\u001B[0;32m   1032\u001B[0m     \u001B[38;5;28;01melse\u001B[39;00m:\n\u001B[0;32m   1033\u001B[0m         exc_info \u001B[38;5;241m=\u001B[39m sys\u001B[38;5;241m.\u001B[39mexc_info()\n\u001B[1;32m-> 1034\u001B[0m     \u001B[38;5;28;01mraise\u001B[39;00m DownloadError(message, exc_info)\n\u001B[0;32m   1035\u001B[0m \u001B[38;5;28mself\u001B[39m\u001B[38;5;241m.\u001B[39m_download_retcode \u001B[38;5;241m=\u001B[39m \u001B[38;5;241m1\u001B[39m\n",
      "\u001B[1;31mDownloadError\u001B[0m: ERROR: Postprocessing: ffprobe and ffmpeg not found. Please install or provide the path using --ffmpeg-location"
     ]
    }
   ],
   "execution_count": 4
  },
  {
   "metadata": {
    "ExecuteTime": {
     "end_time": "2025-03-01T04:25:04.766117600Z",
     "start_time": "2025-03-01T03:44:05.232157Z"
    }
   },
   "cell_type": "code",
   "source": [
    "#Acceder a segunda url\n",
    "download_audio(urls_youtube[\"segunda_parte\"])"
   ],
   "id": "1c5df45115e38e5d",
   "outputs": [
    {
     "name": "stdout",
     "output_type": "stream",
     "text": [
      "[youtube] Extracting URL: https://www.youtube.com/live/LCYVANND0Z8?si=FpHvvodVpFRw4yKV\n",
      "[youtube] LCYVANND0Z8: Downloading webpage\n",
      "[youtube] LCYVANND0Z8: Downloading tv client config\n",
      "[youtube] LCYVANND0Z8: Downloading player 5ae7d525\n",
      "[youtube] LCYVANND0Z8: Downloading tv player API JSON\n",
      "[youtube] LCYVANND0Z8: Downloading ios player API JSON\n",
      "[youtube] LCYVANND0Z8: Downloading MPD manifest\n",
      "[youtube] LCYVANND0Z8: Downloading m3u8 information\n",
      "[youtube] LCYVANND0Z8: Downloading m3u8 information\n",
      "[youtube] LCYVANND0Z8: Downloading MPD manifest\n",
      "[info] LCYVANND0Z8: Downloading 1 format(s): 140\n",
      "[dashsegments] Total fragments: 825\n",
      "[download] Destination: 🔴 #EnVivo ｜ Reanudación de la Entrevista a las aspirantes a ocupar el... ｜ 28 de Febrero de 2025 [LCYVANND0Z8].m4a\n",
      "[download] 100% of   64.43MiB in 00:02:52 at 382.00KiB/s                 \n"
     ]
    },
    {
     "name": "stderr",
     "output_type": "stream",
     "text": [
      "WARNING: LCYVANND0Z8: writing DASH m4a. Only some players support this container. Install ffmpeg to fix this automatically\n",
      "WARNING: LCYVANND0Z8: Possible duplicate MOOV atoms. Install ffmpeg to fix this automatically\n",
      "ERROR: Postprocessing: ffprobe and ffmpeg not found. Please install or provide the path using --ffmpeg-location\n"
     ]
    },
    {
     "ename": "DownloadError",
     "evalue": "ERROR: Postprocessing: ffprobe and ffmpeg not found. Please install or provide the path using --ffmpeg-location",
     "output_type": "error",
     "traceback": [
      "\u001B[1;31m---------------------------------------------------------------------------\u001B[0m",
      "\u001B[1;31mPostProcessingError\u001B[0m                       Traceback (most recent call last)",
      "File \u001B[1;32m~\\miniconda3\\Lib\\site-packages\\yt_dlp\\YoutubeDL.py:3570\u001B[0m, in \u001B[0;36mYoutubeDL.process_info\u001B[1;34m(self, info_dict)\u001B[0m\n\u001B[0;32m   3569\u001B[0m \u001B[38;5;28;01mtry\u001B[39;00m:\n\u001B[1;32m-> 3570\u001B[0m     replace_info_dict(\u001B[38;5;28mself\u001B[39m\u001B[38;5;241m.\u001B[39mpost_process(dl_filename, info_dict, files_to_move))\n\u001B[0;32m   3571\u001B[0m \u001B[38;5;28;01mexcept\u001B[39;00m PostProcessingError \u001B[38;5;28;01mas\u001B[39;00m err:\n",
      "File \u001B[1;32m~\\miniconda3\\Lib\\site-packages\\yt_dlp\\YoutubeDL.py:3754\u001B[0m, in \u001B[0;36mYoutubeDL.post_process\u001B[1;34m(self, filename, info, files_to_move)\u001B[0m\n\u001B[0;32m   3753\u001B[0m info[\u001B[38;5;124m'\u001B[39m\u001B[38;5;124m__files_to_move\u001B[39m\u001B[38;5;124m'\u001B[39m] \u001B[38;5;241m=\u001B[39m files_to_move \u001B[38;5;129;01mor\u001B[39;00m {}\n\u001B[1;32m-> 3754\u001B[0m info \u001B[38;5;241m=\u001B[39m \u001B[38;5;28mself\u001B[39m\u001B[38;5;241m.\u001B[39mrun_all_pps(\u001B[38;5;124m'\u001B[39m\u001B[38;5;124mpost_process\u001B[39m\u001B[38;5;124m'\u001B[39m, info, additional_pps\u001B[38;5;241m=\u001B[39minfo\u001B[38;5;241m.\u001B[39mget(\u001B[38;5;124m'\u001B[39m\u001B[38;5;124m__postprocessors\u001B[39m\u001B[38;5;124m'\u001B[39m))\n\u001B[0;32m   3755\u001B[0m info \u001B[38;5;241m=\u001B[39m \u001B[38;5;28mself\u001B[39m\u001B[38;5;241m.\u001B[39mrun_pp(MoveFilesAfterDownloadPP(\u001B[38;5;28mself\u001B[39m), info)\n",
      "File \u001B[1;32m~\\miniconda3\\Lib\\site-packages\\yt_dlp\\YoutubeDL.py:3736\u001B[0m, in \u001B[0;36mYoutubeDL.run_all_pps\u001B[1;34m(self, key, info, additional_pps)\u001B[0m\n\u001B[0;32m   3735\u001B[0m \u001B[38;5;28;01mfor\u001B[39;00m pp \u001B[38;5;129;01min\u001B[39;00m (additional_pps \u001B[38;5;129;01mor\u001B[39;00m []) \u001B[38;5;241m+\u001B[39m \u001B[38;5;28mself\u001B[39m\u001B[38;5;241m.\u001B[39m_pps[key]:\n\u001B[1;32m-> 3736\u001B[0m     info \u001B[38;5;241m=\u001B[39m \u001B[38;5;28mself\u001B[39m\u001B[38;5;241m.\u001B[39mrun_pp(pp, info)\n\u001B[0;32m   3737\u001B[0m \u001B[38;5;28;01mreturn\u001B[39;00m info\n",
      "File \u001B[1;32m~\\miniconda3\\Lib\\site-packages\\yt_dlp\\YoutubeDL.py:3714\u001B[0m, in \u001B[0;36mYoutubeDL.run_pp\u001B[1;34m(self, pp, infodict)\u001B[0m\n\u001B[0;32m   3713\u001B[0m \u001B[38;5;28;01mtry\u001B[39;00m:\n\u001B[1;32m-> 3714\u001B[0m     files_to_delete, infodict \u001B[38;5;241m=\u001B[39m pp\u001B[38;5;241m.\u001B[39mrun(infodict)\n\u001B[0;32m   3715\u001B[0m \u001B[38;5;28;01mexcept\u001B[39;00m PostProcessingError \u001B[38;5;28;01mas\u001B[39;00m e:\n\u001B[0;32m   3716\u001B[0m     \u001B[38;5;66;03m# Must be True and not 'only_download'\u001B[39;00m\n",
      "File \u001B[1;32m~\\miniconda3\\Lib\\site-packages\\yt_dlp\\postprocessor\\common.py:22\u001B[0m, in \u001B[0;36mPostProcessorMetaClass.run_wrapper.<locals>.run\u001B[1;34m(self, info, *args, **kwargs)\u001B[0m\n\u001B[0;32m     21\u001B[0m \u001B[38;5;28mself\u001B[39m\u001B[38;5;241m.\u001B[39m_hook_progress({\u001B[38;5;124m'\u001B[39m\u001B[38;5;124mstatus\u001B[39m\u001B[38;5;124m'\u001B[39m: \u001B[38;5;124m'\u001B[39m\u001B[38;5;124mstarted\u001B[39m\u001B[38;5;124m'\u001B[39m}, info_copy)\n\u001B[1;32m---> 22\u001B[0m ret \u001B[38;5;241m=\u001B[39m func(\u001B[38;5;28mself\u001B[39m, info, \u001B[38;5;241m*\u001B[39margs, \u001B[38;5;241m*\u001B[39m\u001B[38;5;241m*\u001B[39mkwargs)\n\u001B[0;32m     23\u001B[0m \u001B[38;5;28;01mif\u001B[39;00m ret \u001B[38;5;129;01mis\u001B[39;00m \u001B[38;5;129;01mnot\u001B[39;00m \u001B[38;5;28;01mNone\u001B[39;00m:\n",
      "File \u001B[1;32m~\\miniconda3\\Lib\\site-packages\\yt_dlp\\postprocessor\\common.py:127\u001B[0m, in \u001B[0;36mPostProcessor._restrict_to.<locals>.decorator.<locals>.wrapper\u001B[1;34m(self, info)\u001B[0m\n\u001B[0;32m    126\u001B[0m \u001B[38;5;28;01mif\u001B[39;00m allowed[format_type]:\n\u001B[1;32m--> 127\u001B[0m     \u001B[38;5;28;01mreturn\u001B[39;00m func(\u001B[38;5;28mself\u001B[39m, info)\n\u001B[0;32m    128\u001B[0m \u001B[38;5;28;01melse\u001B[39;00m:\n",
      "File \u001B[1;32m~\\miniconda3\\Lib\\site-packages\\yt_dlp\\postprocessor\\ffmpeg.py:493\u001B[0m, in \u001B[0;36mFFmpegExtractAudioPP.run\u001B[1;34m(self, information)\u001B[0m\n\u001B[0;32m    491\u001B[0m     \u001B[38;5;28;01mreturn\u001B[39;00m [], information\n\u001B[1;32m--> 493\u001B[0m filecodec \u001B[38;5;241m=\u001B[39m \u001B[38;5;28mself\u001B[39m\u001B[38;5;241m.\u001B[39mget_audio_codec(path)\n\u001B[0;32m    494\u001B[0m \u001B[38;5;28;01mif\u001B[39;00m filecodec \u001B[38;5;129;01mis\u001B[39;00m \u001B[38;5;28;01mNone\u001B[39;00m:\n",
      "File \u001B[1;32m~\\miniconda3\\Lib\\site-packages\\yt_dlp\\postprocessor\\ffmpeg.py:241\u001B[0m, in \u001B[0;36mFFmpegPostProcessor.get_audio_codec\u001B[1;34m(self, path)\u001B[0m\n\u001B[0;32m    240\u001B[0m \u001B[38;5;28;01mif\u001B[39;00m \u001B[38;5;129;01mnot\u001B[39;00m \u001B[38;5;28mself\u001B[39m\u001B[38;5;241m.\u001B[39mprobe_available \u001B[38;5;129;01mand\u001B[39;00m \u001B[38;5;129;01mnot\u001B[39;00m \u001B[38;5;28mself\u001B[39m\u001B[38;5;241m.\u001B[39mavailable:\n\u001B[1;32m--> 241\u001B[0m     \u001B[38;5;28;01mraise\u001B[39;00m PostProcessingError(\u001B[38;5;124m'\u001B[39m\u001B[38;5;124mffprobe and ffmpeg not found. Please install or provide the path using --ffmpeg-location\u001B[39m\u001B[38;5;124m'\u001B[39m)\n\u001B[0;32m    242\u001B[0m \u001B[38;5;28;01mtry\u001B[39;00m:\n",
      "\u001B[1;31mPostProcessingError\u001B[0m: ffprobe and ffmpeg not found. Please install or provide the path using --ffmpeg-location",
      "\nDuring handling of the above exception, another exception occurred:\n",
      "\u001B[1;31mDownloadError\u001B[0m                             Traceback (most recent call last)",
      "Cell \u001B[1;32mIn[14], line 2\u001B[0m\n\u001B[0;32m      1\u001B[0m \u001B[38;5;66;03m#Acceder a segunda url\u001B[39;00m\n\u001B[1;32m----> 2\u001B[0m download_audio(urls_youtube[\u001B[38;5;124m\"\u001B[39m\u001B[38;5;124msegunda_parte\u001B[39m\u001B[38;5;124m\"\u001B[39m])\n",
      "Cell \u001B[1;32mIn[13], line 13\u001B[0m, in \u001B[0;36mdownload_audio\u001B[1;34m(url)\u001B[0m\n\u001B[0;32m      3\u001B[0m ydl_opts \u001B[38;5;241m=\u001B[39m {\n\u001B[0;32m      4\u001B[0m     \u001B[38;5;124m'\u001B[39m\u001B[38;5;124mformat\u001B[39m\u001B[38;5;124m'\u001B[39m: \u001B[38;5;124m'\u001B[39m\u001B[38;5;124mbestaudio/best\u001B[39m\u001B[38;5;124m'\u001B[39m,\n\u001B[0;32m      5\u001B[0m     \u001B[38;5;124m'\u001B[39m\u001B[38;5;124mpostprocessors\u001B[39m\u001B[38;5;124m'\u001B[39m: [{\n\u001B[1;32m   (...)\u001B[0m\n\u001B[0;32m      9\u001B[0m     }],\n\u001B[0;32m     10\u001B[0m }\n\u001B[0;32m     12\u001B[0m \u001B[38;5;28;01mwith\u001B[39;00m yt_dlp\u001B[38;5;241m.\u001B[39mYoutubeDL(ydl_opts) \u001B[38;5;28;01mas\u001B[39;00m ydl:\n\u001B[1;32m---> 13\u001B[0m     ydl\u001B[38;5;241m.\u001B[39mdownload([url])\n",
      "File \u001B[1;32m~\\miniconda3\\Lib\\site-packages\\yt_dlp\\YoutubeDL.py:3618\u001B[0m, in \u001B[0;36mYoutubeDL.download\u001B[1;34m(self, url_list)\u001B[0m\n\u001B[0;32m   3615\u001B[0m     \u001B[38;5;28;01mraise\u001B[39;00m SameFileError(outtmpl)\n\u001B[0;32m   3617\u001B[0m \u001B[38;5;28;01mfor\u001B[39;00m url \u001B[38;5;129;01min\u001B[39;00m url_list:\n\u001B[1;32m-> 3618\u001B[0m     \u001B[38;5;28mself\u001B[39m\u001B[38;5;241m.\u001B[39m__download_wrapper(\u001B[38;5;28mself\u001B[39m\u001B[38;5;241m.\u001B[39mextract_info)(\n\u001B[0;32m   3619\u001B[0m         url, force_generic_extractor\u001B[38;5;241m=\u001B[39m\u001B[38;5;28mself\u001B[39m\u001B[38;5;241m.\u001B[39mparams\u001B[38;5;241m.\u001B[39mget(\u001B[38;5;124m'\u001B[39m\u001B[38;5;124mforce_generic_extractor\u001B[39m\u001B[38;5;124m'\u001B[39m, \u001B[38;5;28;01mFalse\u001B[39;00m))\n\u001B[0;32m   3621\u001B[0m \u001B[38;5;28;01mreturn\u001B[39;00m \u001B[38;5;28mself\u001B[39m\u001B[38;5;241m.\u001B[39m_download_retcode\n",
      "File \u001B[1;32m~\\miniconda3\\Lib\\site-packages\\yt_dlp\\YoutubeDL.py:3591\u001B[0m, in \u001B[0;36mYoutubeDL.__download_wrapper.<locals>.wrapper\u001B[1;34m(*args, **kwargs)\u001B[0m\n\u001B[0;32m   3588\u001B[0m \u001B[38;5;129m@functools\u001B[39m\u001B[38;5;241m.\u001B[39mwraps(func)\n\u001B[0;32m   3589\u001B[0m \u001B[38;5;28;01mdef\u001B[39;00m \u001B[38;5;21mwrapper\u001B[39m(\u001B[38;5;241m*\u001B[39margs, \u001B[38;5;241m*\u001B[39m\u001B[38;5;241m*\u001B[39mkwargs):\n\u001B[0;32m   3590\u001B[0m     \u001B[38;5;28;01mtry\u001B[39;00m:\n\u001B[1;32m-> 3591\u001B[0m         res \u001B[38;5;241m=\u001B[39m func(\u001B[38;5;241m*\u001B[39margs, \u001B[38;5;241m*\u001B[39m\u001B[38;5;241m*\u001B[39mkwargs)\n\u001B[0;32m   3592\u001B[0m     \u001B[38;5;28;01mexcept\u001B[39;00m CookieLoadError:\n\u001B[0;32m   3593\u001B[0m         \u001B[38;5;28;01mraise\u001B[39;00m\n",
      "File \u001B[1;32m~\\miniconda3\\Lib\\site-packages\\yt_dlp\\YoutubeDL.py:1626\u001B[0m, in \u001B[0;36mYoutubeDL.extract_info\u001B[1;34m(self, url, download, ie_key, extra_info, process, force_generic_extractor)\u001B[0m\n\u001B[0;32m   1624\u001B[0m             \u001B[38;5;28;01mraise\u001B[39;00m ExistingVideoReached\n\u001B[0;32m   1625\u001B[0m         \u001B[38;5;28;01mbreak\u001B[39;00m\n\u001B[1;32m-> 1626\u001B[0m     \u001B[38;5;28;01mreturn\u001B[39;00m \u001B[38;5;28mself\u001B[39m\u001B[38;5;241m.\u001B[39m__extract_info(url, \u001B[38;5;28mself\u001B[39m\u001B[38;5;241m.\u001B[39mget_info_extractor(key), download, extra_info, process)\n\u001B[0;32m   1627\u001B[0m \u001B[38;5;28;01melse\u001B[39;00m:\n\u001B[0;32m   1628\u001B[0m     extractors_restricted \u001B[38;5;241m=\u001B[39m \u001B[38;5;28mself\u001B[39m\u001B[38;5;241m.\u001B[39mparams\u001B[38;5;241m.\u001B[39mget(\u001B[38;5;124m'\u001B[39m\u001B[38;5;124mallowed_extractors\u001B[39m\u001B[38;5;124m'\u001B[39m) \u001B[38;5;129;01mnot\u001B[39;00m \u001B[38;5;129;01min\u001B[39;00m (\u001B[38;5;28;01mNone\u001B[39;00m, [\u001B[38;5;124m'\u001B[39m\u001B[38;5;124mdefault\u001B[39m\u001B[38;5;124m'\u001B[39m])\n",
      "File \u001B[1;32m~\\miniconda3\\Lib\\site-packages\\yt_dlp\\YoutubeDL.py:1637\u001B[0m, in \u001B[0;36mYoutubeDL._handle_extraction_exceptions.<locals>.wrapper\u001B[1;34m(self, *args, **kwargs)\u001B[0m\n\u001B[0;32m   1635\u001B[0m \u001B[38;5;28;01mwhile\u001B[39;00m \u001B[38;5;28;01mTrue\u001B[39;00m:\n\u001B[0;32m   1636\u001B[0m     \u001B[38;5;28;01mtry\u001B[39;00m:\n\u001B[1;32m-> 1637\u001B[0m         \u001B[38;5;28;01mreturn\u001B[39;00m func(\u001B[38;5;28mself\u001B[39m, \u001B[38;5;241m*\u001B[39margs, \u001B[38;5;241m*\u001B[39m\u001B[38;5;241m*\u001B[39mkwargs)\n\u001B[0;32m   1638\u001B[0m     \u001B[38;5;28;01mexcept\u001B[39;00m (CookieLoadError, DownloadCancelled, LazyList\u001B[38;5;241m.\u001B[39mIndexError, PagedList\u001B[38;5;241m.\u001B[39mIndexError):\n\u001B[0;32m   1639\u001B[0m         \u001B[38;5;28;01mraise\u001B[39;00m\n",
      "File \u001B[1;32m~\\miniconda3\\Lib\\site-packages\\yt_dlp\\YoutubeDL.py:1793\u001B[0m, in \u001B[0;36mYoutubeDL.__extract_info\u001B[1;34m(self, url, ie, download, extra_info, process)\u001B[0m\n\u001B[0;32m   1791\u001B[0m \u001B[38;5;28;01mif\u001B[39;00m process:\n\u001B[0;32m   1792\u001B[0m     \u001B[38;5;28mself\u001B[39m\u001B[38;5;241m.\u001B[39m_wait_for_video(ie_result)\n\u001B[1;32m-> 1793\u001B[0m     \u001B[38;5;28;01mreturn\u001B[39;00m \u001B[38;5;28mself\u001B[39m\u001B[38;5;241m.\u001B[39mprocess_ie_result(ie_result, download, extra_info)\n\u001B[0;32m   1794\u001B[0m \u001B[38;5;28;01melse\u001B[39;00m:\n\u001B[0;32m   1795\u001B[0m     \u001B[38;5;28;01mreturn\u001B[39;00m ie_result\n",
      "File \u001B[1;32m~\\miniconda3\\Lib\\site-packages\\yt_dlp\\YoutubeDL.py:1852\u001B[0m, in \u001B[0;36mYoutubeDL.process_ie_result\u001B[1;34m(self, ie_result, download, extra_info)\u001B[0m\n\u001B[0;32m   1850\u001B[0m \u001B[38;5;28;01mif\u001B[39;00m result_type \u001B[38;5;241m==\u001B[39m \u001B[38;5;124m'\u001B[39m\u001B[38;5;124mvideo\u001B[39m\u001B[38;5;124m'\u001B[39m:\n\u001B[0;32m   1851\u001B[0m     \u001B[38;5;28mself\u001B[39m\u001B[38;5;241m.\u001B[39madd_extra_info(ie_result, extra_info)\n\u001B[1;32m-> 1852\u001B[0m     ie_result \u001B[38;5;241m=\u001B[39m \u001B[38;5;28mself\u001B[39m\u001B[38;5;241m.\u001B[39mprocess_video_result(ie_result, download\u001B[38;5;241m=\u001B[39mdownload)\n\u001B[0;32m   1853\u001B[0m     \u001B[38;5;28mself\u001B[39m\u001B[38;5;241m.\u001B[39m_raise_pending_errors(ie_result)\n\u001B[0;32m   1854\u001B[0m     additional_urls \u001B[38;5;241m=\u001B[39m (ie_result \u001B[38;5;129;01mor\u001B[39;00m {})\u001B[38;5;241m.\u001B[39mget(\u001B[38;5;124m'\u001B[39m\u001B[38;5;124madditional_urls\u001B[39m\u001B[38;5;124m'\u001B[39m)\n",
      "File \u001B[1;32m~\\miniconda3\\Lib\\site-packages\\yt_dlp\\YoutubeDL.py:3024\u001B[0m, in \u001B[0;36mYoutubeDL.process_video_result\u001B[1;34m(self, info_dict, download)\u001B[0m\n\u001B[0;32m   3022\u001B[0m downloaded_formats\u001B[38;5;241m.\u001B[39mappend(new_info)\n\u001B[0;32m   3023\u001B[0m \u001B[38;5;28;01mtry\u001B[39;00m:\n\u001B[1;32m-> 3024\u001B[0m     \u001B[38;5;28mself\u001B[39m\u001B[38;5;241m.\u001B[39mprocess_info(new_info)\n\u001B[0;32m   3025\u001B[0m \u001B[38;5;28;01mexcept\u001B[39;00m MaxDownloadsReached:\n\u001B[0;32m   3026\u001B[0m     max_downloads_reached \u001B[38;5;241m=\u001B[39m \u001B[38;5;28;01mTrue\u001B[39;00m\n",
      "File \u001B[1;32m~\\miniconda3\\Lib\\site-packages\\yt_dlp\\YoutubeDL.py:177\u001B[0m, in \u001B[0;36m_catch_unsafe_extension_error.<locals>.wrapper\u001B[1;34m(self, *args, **kwargs)\u001B[0m\n\u001B[0;32m    174\u001B[0m \u001B[38;5;129m@functools\u001B[39m\u001B[38;5;241m.\u001B[39mwraps(func)\n\u001B[0;32m    175\u001B[0m \u001B[38;5;28;01mdef\u001B[39;00m \u001B[38;5;21mwrapper\u001B[39m(\u001B[38;5;28mself\u001B[39m, \u001B[38;5;241m*\u001B[39margs, \u001B[38;5;241m*\u001B[39m\u001B[38;5;241m*\u001B[39mkwargs):\n\u001B[0;32m    176\u001B[0m     \u001B[38;5;28;01mtry\u001B[39;00m:\n\u001B[1;32m--> 177\u001B[0m         \u001B[38;5;28;01mreturn\u001B[39;00m func(\u001B[38;5;28mself\u001B[39m, \u001B[38;5;241m*\u001B[39margs, \u001B[38;5;241m*\u001B[39m\u001B[38;5;241m*\u001B[39mkwargs)\n\u001B[0;32m    178\u001B[0m     \u001B[38;5;28;01mexcept\u001B[39;00m _UnsafeExtensionError \u001B[38;5;28;01mas\u001B[39;00m error:\n\u001B[0;32m    179\u001B[0m         \u001B[38;5;28mself\u001B[39m\u001B[38;5;241m.\u001B[39mreport_error(\n\u001B[0;32m    180\u001B[0m             \u001B[38;5;124mf\u001B[39m\u001B[38;5;124m'\u001B[39m\u001B[38;5;124mThe extracted extension (\u001B[39m\u001B[38;5;132;01m{\u001B[39;00merror\u001B[38;5;241m.\u001B[39mextension\u001B[38;5;132;01m!r}\u001B[39;00m\u001B[38;5;124m) is unusual \u001B[39m\u001B[38;5;124m'\u001B[39m\n\u001B[0;32m    181\u001B[0m             \u001B[38;5;124m'\u001B[39m\u001B[38;5;124mand will be skipped for safety reasons. \u001B[39m\u001B[38;5;124m'\u001B[39m\n\u001B[0;32m    182\u001B[0m             \u001B[38;5;124mf\u001B[39m\u001B[38;5;124m'\u001B[39m\u001B[38;5;124mIf you believe this is an error\u001B[39m\u001B[38;5;132;01m{\u001B[39;00mbug_reports_message(\u001B[38;5;124m\"\u001B[39m\u001B[38;5;124m,\u001B[39m\u001B[38;5;124m\"\u001B[39m)\u001B[38;5;132;01m}\u001B[39;00m\u001B[38;5;124m'\u001B[39m)\n",
      "File \u001B[1;32m~\\miniconda3\\Lib\\site-packages\\yt_dlp\\YoutubeDL.py:3572\u001B[0m, in \u001B[0;36mYoutubeDL.process_info\u001B[1;34m(self, info_dict)\u001B[0m\n\u001B[0;32m   3570\u001B[0m     replace_info_dict(\u001B[38;5;28mself\u001B[39m\u001B[38;5;241m.\u001B[39mpost_process(dl_filename, info_dict, files_to_move))\n\u001B[0;32m   3571\u001B[0m \u001B[38;5;28;01mexcept\u001B[39;00m PostProcessingError \u001B[38;5;28;01mas\u001B[39;00m err:\n\u001B[1;32m-> 3572\u001B[0m     \u001B[38;5;28mself\u001B[39m\u001B[38;5;241m.\u001B[39mreport_error(\u001B[38;5;124mf\u001B[39m\u001B[38;5;124m'\u001B[39m\u001B[38;5;124mPostprocessing: \u001B[39m\u001B[38;5;132;01m{\u001B[39;00merr\u001B[38;5;132;01m}\u001B[39;00m\u001B[38;5;124m'\u001B[39m)\n\u001B[0;32m   3573\u001B[0m     \u001B[38;5;28;01mreturn\u001B[39;00m\n\u001B[0;32m   3574\u001B[0m \u001B[38;5;28;01mtry\u001B[39;00m:\n",
      "File \u001B[1;32m~\\miniconda3\\Lib\\site-packages\\yt_dlp\\YoutubeDL.py:1095\u001B[0m, in \u001B[0;36mYoutubeDL.report_error\u001B[1;34m(self, message, *args, **kwargs)\u001B[0m\n\u001B[0;32m   1090\u001B[0m \u001B[38;5;28;01mdef\u001B[39;00m \u001B[38;5;21mreport_error\u001B[39m(\u001B[38;5;28mself\u001B[39m, message, \u001B[38;5;241m*\u001B[39margs, \u001B[38;5;241m*\u001B[39m\u001B[38;5;241m*\u001B[39mkwargs):\n\u001B[0;32m   1091\u001B[0m \u001B[38;5;250m    \u001B[39m\u001B[38;5;124;03m\"\"\"\u001B[39;00m\n\u001B[0;32m   1092\u001B[0m \u001B[38;5;124;03m    Do the same as trouble, but prefixes the message with 'ERROR:', colored\u001B[39;00m\n\u001B[0;32m   1093\u001B[0m \u001B[38;5;124;03m    in red if stderr is a tty file.\u001B[39;00m\n\u001B[0;32m   1094\u001B[0m \u001B[38;5;124;03m    \"\"\"\u001B[39;00m\n\u001B[1;32m-> 1095\u001B[0m     \u001B[38;5;28mself\u001B[39m\u001B[38;5;241m.\u001B[39mtrouble(\u001B[38;5;124mf\u001B[39m\u001B[38;5;124m'\u001B[39m\u001B[38;5;132;01m{\u001B[39;00m\u001B[38;5;28mself\u001B[39m\u001B[38;5;241m.\u001B[39m_format_err(\u001B[38;5;124m\"\u001B[39m\u001B[38;5;124mERROR:\u001B[39m\u001B[38;5;124m\"\u001B[39m,\u001B[38;5;250m \u001B[39m\u001B[38;5;28mself\u001B[39m\u001B[38;5;241m.\u001B[39mStyles\u001B[38;5;241m.\u001B[39mERROR)\u001B[38;5;132;01m}\u001B[39;00m\u001B[38;5;124m \u001B[39m\u001B[38;5;132;01m{\u001B[39;00mmessage\u001B[38;5;132;01m}\u001B[39;00m\u001B[38;5;124m'\u001B[39m, \u001B[38;5;241m*\u001B[39margs, \u001B[38;5;241m*\u001B[39m\u001B[38;5;241m*\u001B[39mkwargs)\n",
      "File \u001B[1;32m~\\miniconda3\\Lib\\site-packages\\yt_dlp\\YoutubeDL.py:1034\u001B[0m, in \u001B[0;36mYoutubeDL.trouble\u001B[1;34m(self, message, tb, is_error)\u001B[0m\n\u001B[0;32m   1032\u001B[0m     \u001B[38;5;28;01melse\u001B[39;00m:\n\u001B[0;32m   1033\u001B[0m         exc_info \u001B[38;5;241m=\u001B[39m sys\u001B[38;5;241m.\u001B[39mexc_info()\n\u001B[1;32m-> 1034\u001B[0m     \u001B[38;5;28;01mraise\u001B[39;00m DownloadError(message, exc_info)\n\u001B[0;32m   1035\u001B[0m \u001B[38;5;28mself\u001B[39m\u001B[38;5;241m.\u001B[39m_download_retcode \u001B[38;5;241m=\u001B[39m \u001B[38;5;241m1\u001B[39m\n",
      "\u001B[1;31mDownloadError\u001B[0m: ERROR: Postprocessing: ffprobe and ffmpeg not found. Please install or provide the path using --ffmpeg-location"
     ]
    }
   ],
   "execution_count": 14
  }
 ],
 "metadata": {
  "kernelspec": {
   "name": "python3",
   "language": "python",
   "display_name": "Python 3 (ipykernel)"
  }
 },
 "nbformat": 5,
 "nbformat_minor": 9
}
