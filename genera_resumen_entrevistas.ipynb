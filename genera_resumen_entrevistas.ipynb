{
 "cells": [
  {
   "metadata": {
    "ExecuteTime": {
     "end_time": "2025-03-01T06:29:29.935980Z",
     "start_time": "2025-03-01T06:29:29.411137Z"
    }
   },
   "cell_type": "code",
   "source": [
    "from google import genai\n",
    "import re\n",
    "#Guardar como pdf\n",
    "from fpdf import FPDF"
   ],
   "id": "e268c2af216678da",
   "outputs": [],
   "execution_count": 1
  },
  {
   "metadata": {
    "ExecuteTime": {
     "end_time": "2025-03-01T06:42:44.483101Z",
     "start_time": "2025-03-01T06:42:44.478967Z"
    }
   },
   "cell_type": "code",
   "source": [
    "#Leer credenciales de google\n",
    "\n",
    "with open('C:/cred_google_gemini.txt', 'r') as file:\n",
    "    llave = file.read()"
   ],
   "id": "261134d2aa0aa419",
   "outputs": [],
   "execution_count": 24
  },
  {
   "metadata": {
    "ExecuteTime": {
     "end_time": "2025-03-01T06:42:49.991324Z",
     "start_time": "2025-03-01T06:42:49.988320Z"
    }
   },
   "cell_type": "code",
   "source": "client=genai.Client(api_key=llave)",
   "id": "6c6de215517bb7b8",
   "outputs": [],
   "execution_count": 25
  },
  {
   "metadata": {
    "ExecuteTime": {
     "end_time": "2025-03-01T06:29:30.083923Z",
     "start_time": "2025-03-01T06:29:30.075744Z"
    }
   },
   "cell_type": "code",
   "source": [
    "#Leer entrevistas sucias\n",
    "with open('transcripciones.txt', 'r', encoding='utf-8') as file:\n",
    "     entrevistas = file.read()\n",
    "type(entrevistas)"
   ],
   "id": "42752f71120bf0f5",
   "outputs": [
    {
     "data": {
      "text/plain": [
       "str"
      ]
     },
     "execution_count": 3,
     "metadata": {},
     "output_type": "execute_result"
    }
   ],
   "execution_count": 3
  },
  {
   "metadata": {
    "ExecuteTime": {
     "end_time": "2025-03-01T06:29:30.095720Z",
     "start_time": "2025-03-01T06:29:30.088284Z"
    }
   },
   "cell_type": "code",
   "source": [
    "# Patrón de búsqueda\n",
    "pattern = r\"\\'text\\': \\'(.*?)\\'\"\n",
    "\n",
    "# Extraer textos\n",
    "textos = re.findall(pattern, entrevistas)\n",
    "# Pegar los textos\n",
    "entrevistas_limpias = ' '.join(textos)"
   ],
   "id": "e864562fc5df4fd0",
   "outputs": [],
   "execution_count": 4
  },
  {
   "metadata": {
    "ExecuteTime": {
     "end_time": "2025-03-01T06:36:56.063461Z",
     "start_time": "2025-03-01T06:36:56.057945Z"
    }
   },
   "cell_type": "code",
   "source": [
    "#Salvar transcripción limpia\n",
    "with open('transcripciones_limpias_entrevista_ipdp.txt', 'w', encoding='utf-8') as file:\n",
    "    file.write(entrevistas_limpias)"
   ],
   "id": "cd273b65407a0a92",
   "outputs": [],
   "execution_count": 16
  },
  {
   "metadata": {
    "ExecuteTime": {
     "end_time": "2025-03-01T06:36:09.525451Z",
     "start_time": "2025-03-01T06:35:57.281436Z"
    }
   },
   "cell_type": "code",
   "source": [
    "# Generar el contenido con el modelo\n",
    "response = client.models.generate_content(\n",
    "model=\"gemini-2.0-flash\",\n",
    "contents=[entrevistas_limpias,\"Genera una síntesis de lo planteado por cada persona entrevistada en el siguiente texto enfatizando las problemáticas que observa, la visión sobre el Instituto de Planeación y la propuesta de solución que plantea.Las personas entrevistadas fueron: Carina Arvizu Machado, Rocío González Alva, Lluvia Fernanda Maldonado Saenz, Gisela Irene Méndez, Martha Laura Peña Ordóñez, Gabriela Quiroga García, Patria Ramírez Kuri, Mónica Leonor Rivas Bazán y Vanessa Salazar Solís\"])\n",
    "\n",
    "resumen_general = response.text"
   ],
   "id": "75ea4b8f326d3fdb",
   "outputs": [],
   "execution_count": 14
  },
  {
   "metadata": {
    "ExecuteTime": {
     "end_time": "2025-03-01T06:36:09.538887Z",
     "start_time": "2025-03-01T06:36:09.530208Z"
    }
   },
   "cell_type": "code",
   "source": "resumen_general",
   "id": "bda976a5e5676cc1",
   "outputs": [
    {
     "data": {
      "text/plain": [
       "'Aquí tienes una síntesis de los planteamientos de cada entrevistada para el cargo en el Instituto de Planeación Democrática y Prospectiva de la Ciudad de México, enfocándose en los tres puntos clave solicitados:\\n\\n**Carina Arvizu Machado:**\\n\\n*   **Problemáticas:** Crecimiento acelerado de la ciudad, segregación socio-territorial, desigualdad, expansión urbana en suelo de conservación, crisis de vivienda asequible y bien localizada, efectos del cambio climático, movilidad compleja y motorizada, falta de confianza en las instituciones.\\n*   **Visión del Instituto:** Un espacio donde se co-diseñe colectivamente la transformación de la ciudad hacia una accesible, cuidadora, y justa socio-territorialmente. El instituto debe crear consensos, coordinar, conciliar, y promover la participación ciudadana.\\n*   **Propuesta de Solución:** Fortalecer el instituto como órgano rector y coordinador, impulsar instrumentos de planeación, gestionar instrumentos de suelo para vivienda asequible, gestión sustentable del agua, promover gobernanza metropolitana, y transversalizar acción climática, gestión de riesgos, perspectiva de género y derechos humanos.\\n\\n**Rocío González Alva:**\\n\\n*   **Problemáticas:** Acceso a la vivienda, movilidad, disponibilidad y calidad del agua, falta de espacios públicos seguros, participación ciudadana limitada. Falta de difusión del trabajo del instituto y necesidad de incluir perspectivas de género, infancia, adolescencia y juventud.\\n*   **Visión del Instituto:** Una institución que la gente conozca y sienta como propia, que plasme sus peticiones de manera técnica, sistematizada y transparente.\\n*   **Propuesta de Solución:** Consolidar la Oficina de Participación Ciudadana del Instituto, tener personal que pueda ir a las alcaldías y pueblos originarios, transmitir a la ciudadanía de manera más comprensible qué es la Planeación del Desarrollo, Territorial y Urbana.\\n\\n**Lluvia Fernanda Maldonado Saenz:**\\n\\n*   **Problemáticas:** Pobreza, desigualdad, problemas de salud, educación, economía, sustentabilidad, movilidad y vivienda. Pérdida de biodiversidad que afecta la economía, crisis de planeación, falta de transparencia y gobernanza.\\n*   **Visión del Instituto:** Un organismo líder en la construcción de una Ciudad de México más justa y sustentable que recupere su papel rector.\\n*   **Propuesta de Solución:** Fortalecer la protección del suelo de conservación, promover una planeación inclusiva y democrática, integrar la perspectiva de sostenibilidad con soluciones basadas en la naturaleza, garantizar transparencia y acceso a la información, mejorar coordinación interinstitucional, y promover la capacitación y difusión de la cultura de planeación democrática.\\n\\n**Gisela Irene Méndez:**\\n\\n*   **Problemáticas:** Falta de claridad sobre el propósito del Instituto en una ciudad ya innovadora. Institutos de planeación utilizados como moda sin recursos, o como contrapeso a decisiones gubernamentales.\\n*   **Visión del Instituto:** Acompañar la innovación de la ciudad, facilitar procesos de implementación de proyectos, o ser un instituto de investigación y monitoreo de política pública. Es crucial que la Jefa de Gobierno defina qué rol quiere para el Instituto.\\n*   **Propuesta de Solución:** La ciudad debe definir conjuntamente cuál de las tres visiones anteriores quiere que el Instituto adopte: acompañar la innovación de la ciudad, facilitar los procesos de implementacion de políticas públicas o monitorear e investigar políticas públicas. Una vez definido el camino, diseñar un buen plan a largo plazo.\\n\\n**Martha Laura Peña Ordóñez:**\\n\\n*   **Problemáticas:** Acceso limitado a servicios básicos (agua, movilidad, calidad ambiental), gestión de riesgos deficiente, desigualdades sociales y limitada participación ciudadana.\\n*   **Visión del Instituto:** Un espacio consultado que incida en las decisiones de política pública, un actor transformador de gobernanza multinivel y referente en gestión y participación ciudadana estratégica.\\n*   **Propuesta de Solución:** Diagnósticos participativos, dictámenes de uso y gestión del suelo con visión de riesgos y estrés hídrico, programas aprobados por el Congreso, armonización de la recaudación para infraestructuras, e integración de la perspectiva de igualdad sustantiva en metodologías replicables.\\n\\n**Gabriela Quiroga García:**\\n\\n*   **Problemáticas:** Desarticulación de la zona metropolitana, desigualdad, exclusión ciudadana en la toma de decisiones, desconexión del sistema de transporte metropolitano, carencia de vivienda asequible intraurbana, norma actividad urbana con alta interpretación, asentamientos irregulares en suelo de conservación.\\n*   **Visión del Instituto:** Un laboratorio autónomo y objetivo de datos físicos y socioeconómicos con capacidad de aplicar modelos matemáticos y generar una visión única del territorio.\\n*   **Propuesta de Solución:** Planear de abajo hacia arriba con talleres de planeación y encuentros con el Estado de México, sistema de monitoreo con las alcaldías para evaluar la capacidad de carga, visor del desarrollo inmobiliario, convenios con universidades y organizaciones sociales, atender a la brevedad lo que está pasando en el suelo de conservación.\\n\\n**Patria Ramírez Kuri:**\\n\\n*   **Problemáticas:** Estratificación polarizada, desigual distribución de la población y de la infraestructura, separación entre la manera como se construye la ciudad y como se habita.\\n*   **Visión del Instituto:** Contribuir a la reconstrucción de la ciudad desde un enfoque de bien común y derecho a la ciudad.\\n*   **Propuesta de Solución:** Ampliar el conocimiento y compromiso con la Constitución y las voces de la sociedad, reorientar la política urbana, avanzar hacia un urbanismo social y sustentabilidad, recuperar el sentido de lo público y vincular demandas ciudadanas con intereses del capital.\\n\\n**Mónica Leonor Rivas Bazán:**\\n\\n*   **Problemáticas:** Crecimiento de la población en la zona metropolitana, disminución de la tasa de fecundidad, disminución de la población en la Ciudad de México, usos de suelo y la legislación que se tiene, afectividades hidráulicas, asentamientos humanos irregulares, falta de actualización en los usos de suelo.\\n*   **Visión del Instituto:** Contribuir a la base del proyecto de ciudad incluyente y también debe contribuir a la reconstrucción como proyecto de todas y todos por encima de los intereses particularistas recuperando la planeación democrática y participativa.\\n*   **Propuesta de Solución:** Reorientar la política de cobertura y equipamiento y fortalecer las coberturas de transporte en susos de suelo, regular las vivienda en plataformas, identificar las zonas de aptitud territorial, armonizar el PGEOT con movilidad y coordinarse con las alcaldías.\\n\\n**Vanessa Salazar Solís:**\\n\\n*   **Problemáticas:** Envejecimiento poblacional creciente, segregación social espacial con inequidad en el acceso, falta de transporte público local y metropolitano, desarrollo económico que no prioriza lo ambiental, fragmentación espacial, inseguridad y falta de resiliencia urbana.\\n*   **Visión del Instituto:** Un instituto que recorra los territorios de la ciudad para conjuntar ediciones con las personas que habitan y generar un consenso colectivo que nos permita hacer una planeación estratégica.\\n*   **Propuesta de Solución:** Acrecentar el acervo científico, promover mecanismos de planeación participativa, fomentar la gobernanza metropolitana, monitorear y evaluar la asignación presupuestaria e impulsar la incorporación de co-tecnologías en acentamientos periurbanos y rurales.\\n'"
      ]
     },
     "execution_count": 15,
     "metadata": {},
     "output_type": "execute_result"
    }
   ],
   "execution_count": 15
  },
  {
   "metadata": {
    "ExecuteTime": {
     "end_time": "2025-03-01T06:37:14.666924Z",
     "start_time": "2025-03-01T06:37:14.657129Z"
    }
   },
   "cell_type": "code",
   "source": [
    "#Salvar resumen general\n",
    "with open('resumen_entrevistas_ipdp.txt', 'w', encoding='utf-8') as file:\n",
    "    file.write(resumen_general)"
   ],
   "id": "2580565ab05c255f",
   "outputs": [],
   "execution_count": 17
  },
  {
   "metadata": {
    "ExecuteTime": {
     "end_time": "2025-03-01T06:38:44.570050Z",
     "start_time": "2025-03-01T06:38:44.563093Z"
    }
   },
   "cell_type": "code",
   "source": [
    "#Guardar como pdf\n",
    "pdf = FPDF()\n",
    "pdf.add_page()\n",
    "pdf.set_font(\"Arial\", size = 12)\n",
    "pdf.multi_cell(0, 10, resumen_general)\n",
    "pdf.output(\"resumen_entrevistas_ipdp.pdf\")\n"
   ],
   "id": "c5af51252db57365",
   "outputs": [
    {
     "data": {
      "text/plain": [
       "''"
      ]
     },
     "execution_count": 21,
     "metadata": {},
     "output_type": "execute_result"
    }
   ],
   "execution_count": 21
  }
 ],
 "metadata": {
  "kernelspec": {
   "name": "python3",
   "language": "python",
   "display_name": "Python 3 (ipykernel)"
  }
 },
 "nbformat": 4,
 "nbformat_minor": 5
}
