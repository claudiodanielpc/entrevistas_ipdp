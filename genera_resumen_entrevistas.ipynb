{
 "cells": [
  {
   "metadata": {
    "ExecuteTime": {
     "end_time": "2025-03-05T04:53:14.370567Z",
     "start_time": "2025-03-05T04:53:07.959599Z"
    }
   },
   "cell_type": "code",
   "source": [
    "from google import genai\n",
    "import re\n",
    "#Guardar como pdf\n",
    "from fpdf import FPDF"
   ],
   "id": "e268c2af216678da",
   "outputs": [],
   "execution_count": 2
  },
  {
   "metadata": {
    "ExecuteTime": {
     "end_time": "2025-03-05T04:53:16.370376Z",
     "start_time": "2025-03-05T04:53:16.360286Z"
    }
   },
   "cell_type": "code",
   "source": [
    "#Leer credenciales de google\n",
    "\n",
    "with open('C:/cred_google_gemini.txt', 'r') as file:\n",
    "    llave = file.read()"
   ],
   "id": "261134d2aa0aa419",
   "outputs": [],
   "execution_count": 3
  },
  {
   "metadata": {
    "ExecuteTime": {
     "end_time": "2025-03-05T04:53:17.689008Z",
     "start_time": "2025-03-05T04:53:17.681404Z"
    }
   },
   "cell_type": "code",
   "source": "client=genai.Client(api_key=llave)",
   "id": "6c6de215517bb7b8",
   "outputs": [],
   "execution_count": 4
  },
  {
   "metadata": {
    "ExecuteTime": {
     "end_time": "2025-03-05T04:53:18.928587Z",
     "start_time": "2025-03-05T04:53:18.919912Z"
    }
   },
   "cell_type": "code",
   "source": [
    "#Leer entrevistas sucias\n",
    "with open('transcripciones.txt', 'r', encoding='utf-8') as file:\n",
    "     entrevistas = file.read()\n",
    "type(entrevistas)"
   ],
   "id": "42752f71120bf0f5",
   "outputs": [
    {
     "data": {
      "text/plain": [
       "str"
      ]
     },
     "execution_count": 5,
     "metadata": {},
     "output_type": "execute_result"
    }
   ],
   "execution_count": 5
  },
  {
   "metadata": {
    "ExecuteTime": {
     "end_time": "2025-03-05T04:53:20.553917Z",
     "start_time": "2025-03-05T04:53:20.537834Z"
    }
   },
   "cell_type": "code",
   "source": [
    "# Patrón de búsqueda\n",
    "pattern = r\"\\'text\\': \\'(.*?)\\'\"\n",
    "\n",
    "# Extraer textos\n",
    "textos = re.findall(pattern, entrevistas)\n",
    "# Pegar los textos\n",
    "entrevistas_limpias = ' '.join(textos)"
   ],
   "id": "e864562fc5df4fd0",
   "outputs": [],
   "execution_count": 6
  },
  {
   "metadata": {
    "ExecuteTime": {
     "end_time": "2025-03-01T07:05:58.732370Z",
     "start_time": "2025-03-01T07:05:58.717834Z"
    }
   },
   "cell_type": "code",
   "source": [
    "#Salvar transcripción limpia\n",
    "with open('transcripciones_limpias_entrevista_ipdp.txt', 'w', encoding='utf-8') as file:\n",
    "    file.write(entrevistas_limpias)"
   ],
   "id": "cd273b65407a0a92",
   "outputs": [],
   "execution_count": 6
  },
  {
   "metadata": {},
   "cell_type": "markdown",
   "source": "### Visión general de entrevistadas",
   "id": "cf87d2f9d3041023"
  },
  {
   "metadata": {
    "ExecuteTime": {
     "end_time": "2025-03-01T06:36:09.525451Z",
     "start_time": "2025-03-01T06:35:57.281436Z"
    }
   },
   "cell_type": "code",
   "source": [
    "# Generar el contenido con el modelo\n",
    "response = client.models.generate_content(\n",
    "model=\"gemini-2.0-flash\",\n",
    "contents=[entrevistas_limpias,\"Genera una síntesis de lo planteado por cada persona entrevistada en el siguiente texto enfatizando las problemáticas que observa, la visión sobre el Instituto de Planeación y la propuesta de solución que plantea.Las personas entrevistadas fueron: Carina Arvizu Machado, Rocío González Alva, Lluvia Fernanda Maldonado Saenz, Gisela Irene Méndez, Martha Laura Peña Ordóñez, Gabriela Quiroga García, Patria Ramírez Kuri, Mónica Leonor Rivas Bazán y Vanessa Salazar Solís\"])\n",
    "\n",
    "resumen_general = response.text"
   ],
   "id": "75ea4b8f326d3fdb",
   "outputs": [],
   "execution_count": 14
  },
  {
   "metadata": {
    "ExecuteTime": {
     "end_time": "2025-03-01T06:37:14.666924Z",
     "start_time": "2025-03-01T06:37:14.657129Z"
    }
   },
   "cell_type": "code",
   "source": [
    "#Salvar resumen general\n",
    "with open('resumen_entrevistas_ipdp.txt', 'w', encoding='utf-8') as file:\n",
    "    file.write(resumen_general)"
   ],
   "id": "2580565ab05c255f",
   "outputs": [],
   "execution_count": 17
  },
  {
   "metadata": {
    "ExecuteTime": {
     "end_time": "2025-03-05T05:00:32.755503Z",
     "start_time": "2025-03-05T05:00:32.744162Z"
    }
   },
   "cell_type": "code",
   "source": [
    "#Guardar como pdf\n",
    "pdf = FPDF()\n",
    "pdf.add_page()\n",
    "pdf.set_font(\"Arial\", size = 12)\n",
    "pdf.multi_cell(0, 10, resumen_general)\n",
    "pdf.output(\"argumentos_dif_terna_ipdp.pdf\")\n"
   ],
   "id": "c5af51252db57365",
   "outputs": [
    {
     "data": {
      "text/plain": [
       "''"
      ]
     },
     "execution_count": 15,
     "metadata": {},
     "output_type": "execute_result"
    }
   ],
   "execution_count": 15
  },
  {
   "metadata": {},
   "cell_type": "markdown",
   "source": "### Fortalezas y debilidades IPDP detectadas por entrevistadas",
   "id": "33ab35af5e91ccfc"
  },
  {
   "metadata": {
    "ExecuteTime": {
     "end_time": "2025-03-01T07:08:03.956866Z",
     "start_time": "2025-03-01T07:07:55.738674Z"
    }
   },
   "cell_type": "code",
   "source": [
    "# Generar el contenido con el modelo\n",
    "response = client.models.generate_content(\n",
    "model=\"gemini-2.0-flash\",\n",
    "contents=[entrevistas_limpias,\"¿Cuáles son las fortalezas y debilidades que las entrevistadas detectaron sobre el Instituto de Planeación?. Estas fueron: Carina Arvizu Machado, Rocío González Alva, Lluvia Fernanda Maldonado Saenz, Gisela Irene Méndez, Martha Laura Peña Ordóñez, Gabriela Quiroga García, Patria Ramírez Kuri, Mónica Leonor Rivas Bazán y Vanessa Salazar Solís\"])\n",
    "\n",
    "fortalezas_deb= response.text"
   ],
   "id": "3dc83734004c700b",
   "outputs": [],
   "execution_count": 9
  },
  {
   "metadata": {
    "ExecuteTime": {
     "end_time": "2025-03-01T07:08:03.968991Z",
     "start_time": "2025-03-01T07:08:03.956866Z"
    }
   },
   "cell_type": "code",
   "source": "fortalezas_deb",
   "id": "5390ea5d846e0cf4",
   "outputs": [
    {
     "data": {
      "text/plain": [
       "'A continuación, se resumen las fortalezas y debilidades del Instituto de Planeación Democrática y Prospectiva de la Ciudad de México (IPDP) identificadas por cada una de las entrevistadas:\\n\\n**Carina Arvizu Machado:**\\n\\n*   **Fortalezas:**\\n    *   Creación a partir de la Constitución de la Ciudad de México, con una visión del acceso y del derecho a la ciudad.\\n    *   Reconocimiento del trabajo de administraciones anteriores.\\n    *   Avances importantes en materia de instrumentos de vivienda y gestión de suelo.\\n*   **Debilidades:**\\n    *   Deuda pendiente con la ciudad de México: la falta del programa general de ordenamiento territorial.\\n    *   Dificultad para generar consensos y falta de claridad en los procesos de participación efectivos y democráticos.\\n    *   Pérdida de fortaleza de instrumentos como las cooperativas de vivienda.\\n\\n**Rocío González Alva:**\\n\\n*   **Fortalezas:**\\n    *   Trabajo fuerte y arduo.\\n    *   Profesionalismo y energía de quienes lo han coordinado.\\n    *   Coordinación y disciplina demostrada en los estudios, lineamientos y sistemas elaborados.\\n*   **Debilidades:**\\n    *   Falta de difusión y conocimiento del Instituto por parte de la ciudadanía.\\n    *   Posibles áreas de mejora interna y necesidad de consolidar la Oficina de Participación Ciudadana.\\n    *   Retos en la participación ciudadana y la generación de consensos debido a intereses diversos.\\n\\n**Lluvia Fernanda Maldonado Saenz:**\\n\\n*   **Fortalezas:**\\n    *   Conocimiento del territorio.\\n    *   Experiencia como directora de análisis de información geospacial dentro del IPDP.\\n    *   Identificación de áreas de oportunidad en transparencia, gobernanza y generación de información estratégica.\\n*   **Debilidades:**\\n    *   Programas ambientales existentes que no se han cumplido.\\n    *   Anarquía jerárquica interna.\\n\\n**Gisela Irene Méndez:**\\n\\n*   **Debilidades:**\\n    *   Falta de una definición clara del propósito del Instituto por parte del gobierno de la ciudad.\\n    *   Riesgo de convertirse en otro instituto de investigación más, sin impacto real en la toma de decisiones.\\n    *   Distancia entre la realidad de la capacidad de la institución y la expectativa que genera en la ciudadanía.\\n    *   Dificultad para construir puentes y generar consensos entre los diferentes actores involucrados en la planeación.\\n\\n**Martha Laura Peña Ordóñez:**\\n\\n*   **Fortalezas:**\\n    *   Posibilidad de crear una hoja de ruta que armonice la recaudación y transferirla a infraestructuras y proyectos especiales.\\n*   **Debilidades:**\\n    *   El sistema de planeación puede ser difícil de entender y no existe mucho entusiasmo por parte de la gente, a menos de que sea involucrada en el proceso participativo.\\n\\n**Gabriela Quiroga García:**\\n\\n*   **Fortalezas:**\\n    *   Componentes muy importantes para la elaboración del programa general de desarrollo y ordenamiento territorial.\\n    *   Visión única del territorio.\\n    *   Mapeo completamente actualizado, sistema de información y base de datos que permiten un conocimiento detallado de la ciudad.\\n*   **Debilidades:**\\n    *   Zona metropolitana desarticulada con franjas de desigualdad.\\n    *   Ciudadanos que no se sienten incluidos en la toma de decisiones.\\n    *   Sistema de transporte y movilidad no conectado de forma metropolitana.\\n    *   Normatividad urbana parchada y con alto grado de interpretación.\\n    *   Falta de monitoreo y coordinación con las alcaldías.\\n\\n**Patria Ramírez Kuri:**\\n\\n*   **Debilidades:**\\n\\n    *   Ausencia de una dirección a partir del 2022.\\n    *   No ha logrado completar su tarea de concretar los instrumentos.\\n    *   Planeación urbana y social no articuladas entre sí.\\n    *   Grandes expectativas de que puede ser diferente, pero se necesita trabajo para lograrlo.\\n\\n**Mónica Leonor Rivas Bazán:**\\n\\n*   **Fortalezas:**\\n    *   Atribuciones otorgadas por la Constitución y el Reglamento Interior.\\n*   **Debilidades:**\\n\\n    *   Falta un instrumento de planeación actualizado (han pasado 18 años).\\n    *   Los datos no están incorporados en la toma de decisiones.\\n\\n**Vanessa Salazar Solís:**\\n\\n*   **Fortalezas:**\\n    *   Establecimiento de una visión de desarrollo y estrategia territorial.\\n    *   Identificación de problemáticas prioritarias y consensuadas.\\n    *   Contribución a la democratización de la planeación.\\n    *   Fortalecimiento de capacidades y contribución a la transparencia.\\n\\nEn general, las entrevistadas coinciden en que el IPDP tiene potencial y fortalezas importantes, como su mandato constitucional, los avances técnicos logrados y el compromiso de su personal. Sin embargo, también identifican debilidades significativas, como la falta de un programa general de ordenamiento territorial actualizado, dificultades para generar consensos, falta de conocimiento del Instituto por parte de la ciudadanía, necesidad de fortalecer la participación ciudadana y de coordinación con las alcaldías. La clave para el futuro del IPDP parece estar en abordar estas debilidades, consolidar sus fortalezas y lograr una mayor conexión con las necesidades y demandas de la ciudadanía.'"
      ]
     },
     "execution_count": 10,
     "metadata": {},
     "output_type": "execute_result"
    }
   ],
   "execution_count": 10
  },
  {
   "metadata": {
    "ExecuteTime": {
     "end_time": "2025-03-01T07:09:32.407934Z",
     "start_time": "2025-03-01T07:09:32.395248Z"
    }
   },
   "cell_type": "code",
   "source": [
    "#Guardar como pdf\n",
    "pdf_fd = FPDF()\n",
    "pdf_fd.add_page()\n",
    "pdf_fd.set_font(\"Arial\", size = 12)\n",
    "pdf_fd.multi_cell(0, 10, fortalezas_deb)\n",
    "pdf_fd.output(\"fortalezas_deb_entrevistas_ipdp.pdf\")"
   ],
   "id": "d0a96955b045af54",
   "outputs": [
    {
     "data": {
      "text/plain": [
       "''"
      ]
     },
     "execution_count": 11,
     "metadata": {},
     "output_type": "execute_result"
    }
   ],
   "execution_count": 11
  },
  {
   "metadata": {},
   "cell_type": "markdown",
   "source": "### Diferenciadores de mujeres en la terna",
   "id": "4a4d2bc4c9328b6e"
  },
  {
   "metadata": {
    "ExecuteTime": {
     "end_time": "2025-03-05T05:00:30.309507Z",
     "start_time": "2025-03-05T05:00:23.570496Z"
    }
   },
   "cell_type": "code",
   "outputs": [],
   "execution_count": 13,
   "source": [
    "# Generar el contenido con el modelo\n",
    "response = client.models.generate_content(\n",
    "model=\"gemini-2.0-flash\",\n",
    "contents=[entrevistas_limpias,\"Dime, de mnaera extensa, cuáles fueron los argumentos que Carina Arvizu Machado, Martha Laura Peña Ordoñez y Patricia Ramírez Kuri que fueron diferentes respecto a las demás entrevistadas y entre ellas. No hagas juicios, solo dame los argumentos\"])\n",
    "\n",
    "resumen_general = response.text"
   ],
   "id": "802f5dc64e52c24d"
  },
  {
   "metadata": {
    "ExecuteTime": {
     "end_time": "2025-03-05T05:00:30.321975Z",
     "start_time": "2025-03-05T05:00:30.311785Z"
    }
   },
   "cell_type": "code",
   "outputs": [
    {
     "data": {
      "text/plain": [
       "'Claro, te proporciono un resumen detallado de los argumentos distintivos presentados por Carina Arvizu Machado, Martha Laura Peña Ordóñez y Patricia Ramírez Kuri durante sus entrevistas, diferenciándolos entre sí y con respecto a las otras candidatas:\\n\\n**Carina Arvizu Machado:**\\n\\n*   **Énfasis en la Gobernanza Colectiva y la Participación Ciudadana Efectiva:** Arvizu Machado destacó la necesidad de generar consensos y promover una participación ciudadana efectiva, yendo más allá de los mecanismos establecidos en la ley. Propuso metodologías específicas para involucrar a diversos grupos poblacionales (infancia, adultos mayores, personas con discapacidad), adaptando los procesos de participación a sus necesidades y contextos.\\n*   **Enfoque en la Proximidad y los Cuidados:** Resaltó la importancia de introducir la dimensión de la proximidad y los cuidados en la planeación, entendiendo las actividades reproductivas y de la vida cotidiana en el territorio para generar una ciudad que cuide a sus habitantes.\\n*   **Instrumentos de Gestión de Suelo:** Mencionó instrumentos de gestión de suelo para generar vivienda mejor ubicada y promover el urbanismo regenerativo con perspectiva de género.\\n*   **Visión del Instituto como Coordinador y Conciliador:** Propuso que el instituto se fortalezca como órgano rector que coordina y concilia las distintas voces y actores institucionales, impulsando los instrumentos de planeación existentes.\\n\\n**Martha Laura Peña Ordóñez:**\\n\\n*   **Visión Territorial y Enfoque de Derechos Humanos:** Planteó la problemática desde una perspectiva territorial, más allá de lo urbano, y la vinculó con el enfoque de derechos humanos, especialmente el derecho al medio ambiente sano.\\n*   **Énfasis en la Evaluación Continua:** Subrayó la necesidad de establecer indicadores y reformarlos para fortalecer el sistema de indicadores urbanos existente, vinculándolo con una visión social y anticipándose a la gestión de riesgos.\\n*   **Propuesta del Atlas del Suelo:** Propuso la creación de un Atlas del Suelo para identificar potencialidades, no solo para vivienda, sino para otros procesos, y analizar la utilidad de este instrumento.\\n*   **Atención a Proyectos Especiales:** Destacó la importancia de no solo construir proyectos especiales, sino de asegurar su mantenimiento y operación a largo plazo, considerando los cambios en las administraciones.\\n\\n**Patricia Ramírez Kuri:**\\n\\n*   **Reconstrucción de la Ciudad desde el Enfoque del Bien Común:** Planteó la necesidad de reconstruir la ciudad desde un enfoque de bien común y derecho a la ciudad, priorizando este último por encima de los intereses particulares.\\n*   **Importancia de Subsanar la Confianza en las Instituciones:** Identificó como un desafío la necesidad de subsanar la falta de confianza de la ciudadanía en las instituciones, trabajando para un cambio real.\\n*   **Construcción de una Cultura Cívica Común:** Propuso construir una cultura cívica común a través de la cultura y el fomento de la participación.\\n*   **Columna Vertebral del Instituto:** Propuso restablecer los tres órganos que considera son la columna vertebral del instituto para que pueda operar debidamente.\\n\\n**Diferencias entre las Candidatas:**\\n\\n*   **Carina Arvizu Machado:** Se centró más en la gobernanza y la participación, con un enfoque fuerte en los cuidados y la proximidad.\\n*   **Martha Laura Peña Ordóñez:** Destacó la visión territorial y el enfoque de derechos humanos, con énfasis en la evaluación continua y en proyectos especiales con sostenibilidad a largo plazo.\\n*   **Patricia Ramírez Kuri:** Su discurso se enfocó en el bien común y en la reconstrucción de la ciudad desde un enfoque social, destacando la necesidad de fortalecer la estructura del instituto y crear una cultura cívica.\\n\\nCada una, desde su experiencia y formación, puso énfasis en aspectos distintos de la planeación, aunque todas coincidieron en la importancia de la participación ciudadana y en la necesidad de que el instituto juegue un papel fundamental en el desarrollo de la Ciudad de México.'"
      ]
     },
     "execution_count": 14,
     "metadata": {},
     "output_type": "execute_result"
    }
   ],
   "execution_count": 14,
   "source": "resumen_general",
   "id": "bda976a5e5676cc1"
  }
 ],
 "metadata": {
  "kernelspec": {
   "name": "python3",
   "language": "python",
   "display_name": "Python 3 (ipykernel)"
  }
 },
 "nbformat": 4,
 "nbformat_minor": 5
}
